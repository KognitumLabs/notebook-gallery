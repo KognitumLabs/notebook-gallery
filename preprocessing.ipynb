{
 "cells": [
  {
   "cell_type": "code",
   "execution_count": 1,
   "metadata": {
    "collapsed": false
   },
   "outputs": [
    {
     "name": "stderr",
     "output_type": "stream",
     "text": [
      "/home/danilo/.virtualenvs/tf/local/lib/python2.7/site-packages/matplotlib/font_manager.py:273: UserWarning: Matplotlib is building the font cache using fc-list. This may take a moment.\n",
      "  warnings.warn('Matplotlib is building the font cache using fc-list. This may take a moment.')\n"
     ]
    }
   ],
   "source": [
    "%matplotlib inline \n",
    "import matplotlib.pyplot as plt\n",
    "import json\n",
    "import pandas as pd"
   ]
  },
  {
   "cell_type": "code",
   "execution_count": 2,
   "metadata": {
    "collapsed": true
   },
   "outputs": [],
   "source": [
    "with open('extract.json', 'r') as fp:\n",
    "    data = json.load(fp)"
   ]
  },
  {
   "cell_type": "code",
   "execution_count": 11,
   "metadata": {
    "collapsed": false
   },
   "outputs": [],
   "source": [
    "records = {}\n",
    "\n",
    "for nn, user in enumerate(data):\n",
    "    # phone number\n",
    "    celular =  user.get('celular', {})\n",
    "    phone = celular.get('ddd', '00') + celular.get('numer', '00000000')\n",
    "    records.setdefault('telefone', []).append(phone)\n",
    "    \n",
    "    # rendimento\n",
    "    for key, value in user.get('rendimento', {}).items():\n",
    "        records.setdefault(key, []).append(value)\n",
    "        \n",
    "    # endereço\n",
    "    for key, value in user.get('endereco', {}).items():\n",
    "        records.setdefault(key, []).append(value)\n",
    "    \n",
    "    # cliente\n",
    "    for key, value in user.get('cliente', {}).items():\n",
    "        records.setdefault(key.replace('nome', 'user'), []).append(value)\n",
    "    \n",
    "    # analise\n",
    "    analise = user.get('analise') or {}\n",
    "    for key in [u'valor_solicitado', u'decisao_credito', u'data_primeira_parcela', u'classificacao_risco', u'qtde_parcelas']:\n",
    "        records.setdefault(key, []).append(analise.get(key))\n",
    "    \n",
    "    # contrato\n",
    "    contrato = user.get('contrato') or {}\n",
    "    for key in [u'status', u'max_dias_parcela_atraso']:\n",
    "        records.setdefault(key, []).append(contrato.get(key))\n",
    "    \n",
    "    # proposta\n",
    "    proposta = user.get('proposta') or {}\n",
    "    for key in [u'valor_solicitado', u'data_primeira_parcela', u'valor_contrato', u'analise_taxa_juros_mensal', u'qtde_parcelas']:\n",
    "        records.setdefault('proposta_'+key, []).append(contrato.get(key))"
   ]
  },
  {
   "cell_type": "code",
   "execution_count": 12,
   "metadata": {
    "collapsed": false
   },
   "outputs": [],
   "source": [
    "df = pd.DataFrame.from_records(records)\n",
    "df['renda'] = df['valor']"
   ]
  },
  {
   "cell_type": "code",
   "execution_count": 21,
   "metadata": {
    "collapsed": false
   },
   "outputs": [
    {
     "ename": "AttributeError",
     "evalue": "'module' object has no attribute 'set_xlabel'",
     "output_type": "error",
     "traceback": [
      "\u001b[0;31m---------------------------------------------------------------------------\u001b[0m",
      "\u001b[0;31mAttributeError\u001b[0m                            Traceback (most recent call last)",
      "\u001b[0;32m<ipython-input-21-551bf1518e4e>\u001b[0m in \u001b[0;36m<module>\u001b[0;34m()\u001b[0m\n\u001b[1;32m      8\u001b[0m                 c=colors[idx])\n\u001b[1;32m      9\u001b[0m \u001b[0;34m\u001b[0m\u001b[0m\n\u001b[0;32m---> 10\u001b[0;31m \u001b[0mplt\u001b[0m\u001b[0;34m.\u001b[0m\u001b[0mset_xlabel\u001b[0m\u001b[0;34m(\u001b[0m\u001b[0;34m'Renda'\u001b[0m\u001b[0;34m)\u001b[0m\u001b[0;34m\u001b[0m\u001b[0m\n\u001b[0m\u001b[1;32m     11\u001b[0m \u001b[0mplt\u001b[0m\u001b[0;34m.\u001b[0m\u001b[0mset_ylabel\u001b[0m\u001b[0;34m(\u001b[0m\u001b[0;34m'Valor solicitado'\u001b[0m\u001b[0;34m)\u001b[0m\u001b[0;34m\u001b[0m\u001b[0m\n\u001b[1;32m     12\u001b[0m \u001b[0mplt\u001b[0m\u001b[0;34m.\u001b[0m\u001b[0mlegend\u001b[0m\u001b[0;34m(\u001b[0m\u001b[0mclasses\u001b[0m\u001b[0;34m)\u001b[0m\u001b[0;34m\u001b[0m\u001b[0m\n",
      "\u001b[0;31mAttributeError\u001b[0m: 'module' object has no attribute 'set_xlabel'"
     ]
    },
    {
     "data": {
      "image/png": "[encoded data removed]",
      "text/plain": [
       "<matplotlib.figure.Figure at 0x7f7328915210>"
      ]
     },
     "metadata": {},
     "output_type": "display_data"
    }
   ],
   "source": [
    "colors = ['r', 'b', 'y', 'm']\n",
    "valids = df.decisao_credito.notnull()\n",
    "classes = set(df[df.decisao_credito.notnull()].decisao_credito)\n",
    "\n",
    "for idx, classe in enumerate(classes):\n",
    "    plt.scatter(df[valids & (df.decisao_credito == classe)].renda, \n",
    "                df[valids & (df.decisao_credito == classe)].valor_solicitado, \n",
    "                c=colors[idx])\n",
    "\n",
    "plt.set_xlabel('Renda')\n",
    "plt.set_ylabel('Valor solicitado')\n",
    "plt.legend(classes)\n",
    "plt.show()"
   ]
  },
  {
   "cell_type": "code",
   "execution_count": null,
   "metadata": {
    "collapsed": true
   },
   "outputs": [],
   "source": []
  }
 ],
 "metadata": {
  "kernelspec": {
   "display_name": "Python 2",
   "language": "python",
   "name": "python2"
  },
  "language_info": {
   "codemirror_mode": {
    "name": "ipython",
    "version": 2
   },
   "file_extension": ".py",
   "mimetype": "text/x-python",
   "name": "python",
   "nbconvert_exporter": "python",
   "pygments_lexer": "ipython2",
   "version": "2.7.12"
  }
 },
 "nbformat": 4,
 "nbformat_minor": 0
}
