{
 "cells": [
  {
   "cell_type": "code",
   "execution_count": null,
   "metadata": {
    "collapsed": true
   },
   "outputs": [],
   "source": [
    "%matplotlib inline \n",
    "import matplotlib.pyplot as plt\n",
    "import json\n",
    "import pandas as pd"
   ]
  },
  {
   "cell_type": "code",
   "execution_count": null,
   "metadata": {
    "collapsed": true
   },
   "outputs": [],
   "source": [
    "with open('/Users/danilonunes/workspace/kognitum/extract.json', 'r') as fp:\n",
    "    data = json.load(fp)"
   ]
  },
  {
   "cell_type": "code",
   "execution_count": null,
   "metadata": {
    "collapsed": false
   },
   "outputs": [],
   "source": [
    "records = {}\n",
    "\n",
    "for nn, user in enumerate(data):\n",
    "    # phone number\n",
    "    celular =  user.get('celular', {})\n",
    "    phone = celular.get('ddd', '00') + celular.get('numer', '00000000')\n",
    "    records.setdefault('telefone', []).append(phone)\n",
    "    \n",
    "    # rendimento\n",
    "    for key, value in user.get('rendimento', {}).items():\n",
    "        records.setdefault(key, []).append(value)\n",
    "        \n",
    "    # endereço\n",
    "    for key, value in user.get('endereco', {}).items():\n",
    "        records.setdefault(key, []).append(value)\n",
    "    \n",
    "    # cliente\n",
    "    for key, value in user.get('cliente', {}).items():\n",
    "        records.setdefault(key.replace('nome', 'user'), []).append(value)\n",
    "    \n",
    "    # analise\n",
    "    analise = user.get('analise') or {}\n",
    "    for key in [u'valor_solicitado', u'decisao_credito', u'data_primeira_parcela', u'classificacao_risco', u'qtde_parcelas']:\n",
    "        records.setdefault(key, []).append(analise.get(key))\n",
    "    \n",
    "    # contrato\n",
    "    contrato = user.get('contrato') or {}\n",
    "    for key in [u'status', u'max_dias_parcela_atraso']:\n",
    "        records.setdefault(key, []).append(contrato.get(key))\n",
    "        \n",
    "    records.setdefault('proposta', []).append(user.get('proposta'))"
   ]
  },
  {
   "cell_type": "code",
   "execution_count": null,
   "metadata": {
    "collapsed": false
   },
   "outputs": [],
   "source": [
    "data[0]['analise'] is None"
   ]
  },
  {
   "cell_type": "code",
   "execution_count": null,
   "metadata": {
    "collapsed": false
   },
   "outputs": [],
   "source": [
    "keys = []\n",
    "for user in data:\n",
    "    analise = user.get('contrato') or {}\n",
    "    for k in analise:\n",
    "        keys.append(k)\n",
    "print set(keys)"
   ]
  },
  {
   "cell_type": "code",
   "execution_count": null,
   "metadata": {
    "collapsed": false
   },
   "outputs": [],
   "source": [
    "df = pd.DataFrame.from_records(records)\n",
    "df['renda'] = df['valor']"
   ]
  },
  {
   "cell_type": "code",
   "execution_count": null,
   "metadata": {
    "collapsed": false
   },
   "outputs": [],
   "source": [
    "df.head()"
   ]
  },
  {
   "cell_type": "code",
   "execution_count": null,
   "metadata": {
    "collapsed": true
   },
   "outputs": [],
   "source": []
  },
  {
   "cell_type": "code",
   "execution_count": null,
   "metadata": {
    "collapsed": false
   },
   "outputs": [],
   "source": [
    "df[['renda', 'valor_solicitado']].plot()"
   ]
  },
  {
   "cell_type": "code",
   "execution_count": null,
   "metadata": {
    "collapsed": false
   },
   "outputs": [],
   "source": [
    "df['decisao_credito'].value_counts()"
   ]
  },
  {
   "cell_type": "code",
   "execution_count": null,
   "metadata": {
    "collapsed": false
   },
   "outputs": [],
   "source": [
    "df['renda'].min(), df['renda'].max(), df['renda'].std(), df['renda'].mean()"
   ]
  },
  {
   "cell_type": "code",
   "execution_count": null,
   "metadata": {
    "collapsed": false
   },
   "outputs": [],
   "source": [
    "df['valor_solicitado'].min(), df['valor_solicitado'].max(), df['valor_solicitado'].std(), df['valor_solicitado'].mean()"
   ]
  },
  {
   "cell_type": "code",
   "execution_count": null,
   "metadata": {
    "collapsed": true
   },
   "outputs": [],
   "source": []
  }
 ],
 "metadata": {
  "kernelspec": {
   "display_name": "Python 2",
   "language": "python",
   "name": "python2"
  },
  "language_info": {
   "codemirror_mode": {
    "name": "ipython",
    "version": 2
   },
   "file_extension": ".py",
   "mimetype": "text/x-python",
   "name": "python",
   "nbconvert_exporter": "python",
   "pygments_lexer": "ipython2",
   "version": "2.7.11"
  }
 },
 "nbformat": 4,
 "nbformat_minor": 0
}
